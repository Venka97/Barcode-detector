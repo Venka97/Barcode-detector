{
 "cells": [
  {
   "cell_type": "code",
   "execution_count": 2,
   "metadata": {
    "collapsed": false
   },
   "outputs": [],
   "source": [
    "import cv2\n",
    "import numpy as np\n",
    "import imutils\n",
    "import time\n",
    "\n",
    "def barcode_detector(image):\n",
    "        \n",
    "        #image = cv2.imread(\"images/Barcode.jpg\")\n",
    "        gray = cv2.cvtColor(image, cv2.COLOR_BGR2GRAY)\n",
    "\n",
    "        gradX = cv2.Sobel(gray, ddepth = cv2.cv.CV_32F, dx = 1, dy = 0, ksize = -1)\n",
    "        gradY = cv2.Sobel(gray, ddepth = cv2.cv.CV_32F, dx = 0, dy = 1, ksize = -1)\n",
    "        \n",
    "        \n",
    "        #To find regions in image with high horizontal gradients and low vertical gradients\n",
    "        gradient = cv2.subtract(gradX, gradY)\n",
    "        gradient = cv2.convertScaleAbs(gradient)\n",
    "\n",
    "        blurred  = cv2.blur(gradient , (11,11)) #Blurring to filter out noise in the image\n",
    "        _,threshold  = cv2.threshold(gradient , 245, 255 , cv2.THRESH_BINARY)\n",
    "\n",
    "        kernel = cv2.getStructuringElement(cv2.MORPH_RECT, (21, 7))\n",
    "        closed = cv2.morphologyEx(threshold , cv2.MORPH_CLOSE , kernel)\n",
    "        \n",
    "        #To get the roi that is barcode and reducing the size of other blobs\n",
    "        closed = cv2.erode(closed, None, iterations  = 5) \n",
    "        closed = cv2.dilate(closed, None, iterations = 4)\n",
    "        \n",
    "        #Finding contours\n",
    "        cnts,_ = cv2.findContours(closed.copy(), cv2.RETR_EXTERNAL , cv2.CHAIN_APPROX_SIMPLE)\n",
    "        \n",
    "        if len(cnts) == 0:\n",
    "            return None\n",
    "        \n",
    "        c = sorted(cnts , key = cv2.contourArea  , reverse = True)[0]\n",
    "\n",
    "        rect = cv2.minAreaRect(c)\n",
    "        box = np.int0(cv2.cv.BoxPoints(rect))\n",
    "        \n",
    "\n",
    "        return box\n",
    "    \n",
    "    #Getting the video stream from camera\n",
    "cap = cv2.VideoCapture(0)\n",
    "time.sleep(2)\n",
    "\n",
    "\n",
    "while True:\n",
    "    \n",
    "    ret,frame = cap.read()\n",
    "    \n",
    "    box = barcode_detector(frame)\n",
    "    \n",
    "    cv2.drawContours(frame, [box], -1, (0, 255, 0), 3)\n",
    "    \n",
    "    imutils.resize(frame,360,400)\n",
    "    \n",
    "    cv2.imshow(\"Barcode\",frame)\n",
    "    if  cv2.waitKey(1) == 13:\n",
    "        break\n",
    "    \n",
    "cap.release()    \n",
    "cv2.destroyAllWindows()"
   ]
  }
 ],
 "metadata": {
  "anaconda-cloud": {},
  "kernelspec": {
   "display_name": "Python [conda root]",
   "language": "python",
   "name": "conda-root-py"
  },
  "language_info": {
   "codemirror_mode": {
    "name": "ipython",
    "version": 2
   },
   "file_extension": ".py",
   "mimetype": "text/x-python",
   "name": "python",
   "nbconvert_exporter": "python",
   "pygments_lexer": "ipython2",
   "version": "2.7.12"
  }
 },
 "nbformat": 4,
 "nbformat_minor": 1
}
